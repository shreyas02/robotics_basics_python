{
 "cells": [
  {
   "cell_type": "code",
   "execution_count": 2,
   "metadata": {},
   "outputs": [],
   "source": [
    "import cv2\n",
    "import numpy as np\n",
    "import matplotlib.pyplot as plt\n"
   ]
  },
  {
   "cell_type": "code",
   "execution_count": 3,
   "metadata": {},
   "outputs": [
    {
     "name": "stderr",
     "output_type": "stream",
     "text": [
      "[ WARN:0@1180.027] global loadsave.cpp:248 findDecoder imread_('Test.jpg'): can't open/read file: check file path/integrity\n"
     ]
    },
    {
     "ename": "error",
     "evalue": "OpenCV(4.9.0) /io/opencv/modules/imgproc/src/color.cpp:196: error: (-215:Assertion failed) !_src.empty() in function 'cvtColor'\n",
     "output_type": "error",
     "traceback": [
      "\u001b[0;31m---------------------------------------------------------------------------\u001b[0m",
      "\u001b[0;31merror\u001b[0m                                     Traceback (most recent call last)",
      "Cell \u001b[0;32mIn[3], line 6\u001b[0m\n\u001b[1;32m      3\u001b[0m original_image \u001b[39m=\u001b[39m cv2\u001b[39m.\u001b[39mimread(image_path)\n\u001b[1;32m      5\u001b[0m \u001b[39m# Display the original image\u001b[39;00m\n\u001b[0;32m----> 6\u001b[0m plt\u001b[39m.\u001b[39mimshow(cv2\u001b[39m.\u001b[39;49mcvtColor(original_image, cv2\u001b[39m.\u001b[39;49mCOLOR_BGR2RGB))\n\u001b[1;32m      7\u001b[0m plt\u001b[39m.\u001b[39mtitle(\u001b[39m\"\u001b[39m\u001b[39mOriginal Image\u001b[39m\u001b[39m\"\u001b[39m)\n\u001b[1;32m      8\u001b[0m plt\u001b[39m.\u001b[39maxis(\u001b[39m\"\u001b[39m\u001b[39moff\u001b[39m\u001b[39m\"\u001b[39m)\n",
      "\u001b[0;31merror\u001b[0m: OpenCV(4.9.0) /io/opencv/modules/imgproc/src/color.cpp:196: error: (-215:Assertion failed) !_src.empty() in function 'cvtColor'\n"
     ]
    }
   ],
   "source": [
    "# Load an image\n",
    "image_path = \"Test.jpg\"\n",
    "original_image = cv2.imread(image_path)\n",
    "\n",
    "# Display the original image\n",
    "plt.imshow(cv2.cvtColor(original_image, cv2.COLOR_BGR2RGB))\n",
    "plt.title(\"Original Image\")\n",
    "plt.axis(\"off\")\n",
    "plt.show()\n"
   ]
  },
  {
   "cell_type": "code",
   "execution_count": null,
   "metadata": {},
   "outputs": [],
   "source": [
    "# Sharpening using filter2D\n",
    "kernel_sharpening = np.array([[-1, -1, -1],\n",
    "                              [-1, 9, -1],\n",
    "                              [-1, -1, -1]])\n",
    "sharpened_image = cv2.filter2D(original_image, -1, kernel_sharpening)\n",
    "\n",
    "# Display the sharpened image\n",
    "plt.imshow(cv2.cvtColor(sharpened_image, cv2.COLOR_BGR2RGB))\n",
    "plt.title(\"Sharpened Image\")\n",
    "plt.axis(\"off\")\n",
    "plt.show()\n"
   ]
  },
  {
   "cell_type": "code",
   "execution_count": null,
   "metadata": {},
   "outputs": [],
   "source": [
    "# Hueing\n",
    "hued_image = cv2.cvtColor(original_image, cv2.COLOR_BGR2HSV)\n",
    "hued_image[:, :, 0] = (hued_image[:, :, 0] + 20) % 180  # Adjust the hue value\n",
    "hued_image = cv2.cvtColor(hued_image, cv2.COLOR_HSV2BGR)\n",
    "\n",
    "# Display the hued image\n",
    "plt.imshow(cv2.cvtColor(hued_image, cv2.COLOR_BGR2RGB))\n",
    "plt.title(\"Hued Image\")\n",
    "plt.axis(\"off\")\n",
    "plt.show()\n"
   ]
  },
  {
   "cell_type": "code",
   "execution_count": null,
   "metadata": {},
   "outputs": [],
   "source": [
    "# Brightness and Contrast adjustment\n",
    "alpha = 1.5  # Contrast control (1.0 means no change)\n",
    "beta = 30    # Brightness control (0 means no change)\n",
    "\n",
    "adjusted_image = cv2.convertScaleAbs(original_image, alpha=alpha, beta=beta)\n",
    "\n",
    "# Display the adjusted image\n",
    "plt.imshow(cv2.cvtColor(adjusted_image, cv2.COLOR_BGR2RGB))\n",
    "plt.title(\"Adjusted Image\")\n",
    "plt.axis(\"off\")\n",
    "plt.show()\n"
   ]
  },
  {
   "cell_type": "code",
   "execution_count": null,
   "metadata": {},
   "outputs": [],
   "source": []
  }
 ],
 "metadata": {
  "kernelspec": {
   "display_name": "Python 3.10.12 64-bit",
   "language": "python",
   "name": "python3"
  },
  "language_info": {
   "codemirror_mode": {
    "name": "ipython",
    "version": 3
   },
   "file_extension": ".py",
   "mimetype": "text/x-python",
   "name": "python",
   "nbconvert_exporter": "python",
   "pygments_lexer": "ipython3",
   "version": "3.10.12"
  },
  "vscode": {
   "interpreter": {
    "hash": "916dbcbb3f70747c44a77c7bcd40155683ae19c65e1c03b4aa3499c5328201f1"
   }
  }
 },
 "nbformat": 4,
 "nbformat_minor": 2
}
